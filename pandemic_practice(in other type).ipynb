{
 "cells": [
  {
   "cell_type": "code",
   "execution_count": 147,
   "id": "82f7dd0a-cb95-4a2c-b704-461d05ec3998",
   "metadata": {},
   "outputs": [],
   "source": [
    "class Board:\n",
    "    \n",
    "    def __init__(self, size, epicenter):\n",
    "        self.size = size\n",
    "        self.row = [0] * size\n",
    "        self.epicenter = epicenter #the index of epicenter\n",
    "        self.row[self.epicenter] = 1\n",
    "        self.attempt = 0\n",
    "        self.chosen_number = []\n",
    "        self.value= 0\n",
    "        return print(\"Creating board:\", self.row)\n",
    "    \n",
    "    def move(self,value):\n",
    "        \n",
    "        self.value = value\n",
    "        self.chosen_number.append(value)\n",
    "                \n",
    "        print(\"Checking location:\", self.value, \"Value:\", self.row[self.value])\n",
    "        # Increment the epicenter value\n",
    "        self.row[self.epicenter] += 1\n",
    "        self.attempt +=1\n",
    "\n",
    "        # Increment the nearest indices (wrap around if necessary)\n",
    "        for i in range(1, self.row[self.epicenter]):\n",
    "            left_index = (self.epicenter - i) % self.size\n",
    "            right_index = (self.epicenter + i) % self.size\n",
    "            self.row[left_index] += 1\n",
    "            self.row[right_index] += 1\n",
    "        return print(\"New board:\", self.row, \"This was the attempt No:\", self.attempt, \"Remember that you have tried these locations:\", self.chosen_number)\n",
    "\n",
    "class Solver(Board):\n",
    "\n",
    "        def __init__(self, board):\n",
    "            self.board = board\n",
    "            self.attempt = board.attempt\n",
    "            self.epicenter = board.epicenter\n",
    "            self.choice_index = board.value\n",
    "            self.choice_value = board.row[board.value]\n",
    "            self.solvertool_left = 0\n",
    "            self.solvertool_right = 0\n",
    "            \n",
    "        def solve(self):\n",
    "            if self.choice_index == self.epicenter:\n",
    "                return (\"Congratulations! You have found the Epicenter. The Location of the epicenter is\", self.epicenter)\n",
    "            elif self.choice_value != 0:\n",
    "                self.solvertool_left = self.choice_index - (self.attempt+1-self.choice_value)\n",
    "                self.solvertool_right = self.choice_index + (self.attempt+1-self.choice_value)\n",
    "                return \"The chosen location was: \", self.choice_index, \"The value of the new board is: \", self.choice_value, \"The attempt was\", self.attempt,\\\n",
    "                             \"Therefore, the value of Epicenter from the new board would be\", (self.attempt+1), \"Since the value of your chosen location was:\",\\\n",
    "                             self.choice_value, \"This means that the epicenter is\", (self.attempt+1-self.choice_value), \"away from your choice\",\\\n",
    "                             \"Try index\", self.solvertool_left, \"or\", self.solvertool_right\n",
    "            elif self.attempt == 0:\n",
    "                return \"You have not made your first move, make you choice\"\n",
    "            else:\n",
    "                return \"The chosen index was 0. There is no way to solve. try another value\"\n",
    "                "
   ]
  },
  {
   "cell_type": "code",
   "execution_count": 161,
   "id": "1d8a06bf-39c9-477e-b016-7d39142f4fcb",
   "metadata": {},
   "outputs": [
    {
     "name": "stdout",
     "output_type": "stream",
     "text": [
      "Creating board: [0, 0, 1, 0, 0, 0, 0, 0, 0, 0]\n"
     ]
    }
   ],
   "source": [
    "board = Board(10,2)"
   ]
  },
  {
   "cell_type": "code",
   "execution_count": 162,
   "id": "a310b7d8-362a-4cb8-b1f7-a5a7fa0530e4",
   "metadata": {},
   "outputs": [
    {
     "name": "stdout",
     "output_type": "stream",
     "text": [
      "10\n"
     ]
    }
   ],
   "source": [
    "print(board.size)"
   ]
  },
  {
   "cell_type": "code",
   "execution_count": 163,
   "id": "82c86680-731c-4194-84d8-3109c24f34b6",
   "metadata": {},
   "outputs": [
    {
     "name": "stdout",
     "output_type": "stream",
     "text": [
      "Checking location: 0 Value: 0\n",
      "New board: [0, 1, 2, 1, 0, 0, 0, 0, 0, 0] This was the attempt No: 1 Remember that you have tried these locations: [0]\n"
     ]
    }
   ],
   "source": [
    "board.move(0)"
   ]
  },
  {
   "cell_type": "code",
   "execution_count": 164,
   "id": "3df34dae-02cf-4cdc-a860-5055764fb8e3",
   "metadata": {},
   "outputs": [
    {
     "name": "stdout",
     "output_type": "stream",
     "text": [
      "Checking location: 1 Value: 1\n",
      "New board: [1, 2, 3, 2, 1, 0, 0, 0, 0, 0] This was the attempt No: 2 Remember that you have tried these locations: [0, 1]\n"
     ]
    }
   ],
   "source": [
    "board.move(1)"
   ]
  },
  {
   "cell_type": "code",
   "execution_count": 165,
   "id": "1b711fb5-a994-49b9-94ce-f7374e4ab29d",
   "metadata": {},
   "outputs": [
    {
     "name": "stdout",
     "output_type": "stream",
     "text": [
      "Checking location: 2 Value: 3\n",
      "New board: [2, 3, 4, 3, 2, 1, 0, 0, 0, 1] This was the attempt No: 3 Remember that you have tried these locations: [0, 1, 2]\n"
     ]
    }
   ],
   "source": [
    "board.move(2)"
   ]
  },
  {
   "cell_type": "code",
   "execution_count": 170,
   "id": "92dd2b85-7d96-4ce9-b2a4-cb4261a10c4b",
   "metadata": {},
   "outputs": [
    {
     "name": "stdout",
     "output_type": "stream",
     "text": [
      "Creating board: [0, 0, 0, 1, 0, 0, 0, 0, 0, 0]\n"
     ]
    }
   ],
   "source": [
    "board=Board(10,3)"
   ]
  },
  {
   "cell_type": "code",
   "execution_count": 171,
   "id": "575a753a-0b8b-4456-ac4d-0df3a7f7b3e3",
   "metadata": {},
   "outputs": [],
   "source": [
    "solver=Solver(board)"
   ]
  },
  {
   "cell_type": "code",
   "execution_count": 172,
   "id": "c5a66254-3377-4ac9-8656-5484d4640836",
   "metadata": {},
   "outputs": [
    {
     "name": "stdout",
     "output_type": "stream",
     "text": [
      "You have not made your first move, make you choice\n"
     ]
    }
   ],
   "source": [
    "print(solver.solve())"
   ]
  },
  {
   "cell_type": "code",
   "execution_count": 173,
   "id": "649d3d54-e01e-4861-a6e2-a090bc38da0b",
   "metadata": {},
   "outputs": [
    {
     "name": "stdout",
     "output_type": "stream",
     "text": [
      "Checking location: 1 Value: 0\n",
      "New board: [0, 0, 1, 2, 1, 0, 0, 0, 0, 0] This was the attempt No: 1 Remember that you have tried these locations: [1]\n",
      "The chosen index was 0. There is no way to solve. try another value\n"
     ]
    }
   ],
   "source": [
    "board.move(1)\n",
    "solver=Solver(board)\n",
    "print(solver.solve())"
   ]
  },
  {
   "cell_type": "code",
   "execution_count": null,
   "id": "dca55b3b-48cc-45b4-a5cd-2887681f6510",
   "metadata": {},
   "outputs": [],
   "source": [
    "board.move(1)\n",
    "solver=Solver(board)\n",
    "print(solver.solve())"
   ]
  }
 ],
 "metadata": {
  "kernelspec": {
   "display_name": "Python 3 (ipykernel)",
   "language": "python",
   "name": "python3"
  },
  "language_info": {
   "codemirror_mode": {
    "name": "ipython",
    "version": 3
   },
   "file_extension": ".py",
   "mimetype": "text/x-python",
   "name": "python",
   "nbconvert_exporter": "python",
   "pygments_lexer": "ipython3",
   "version": "3.11.7"
  }
 },
 "nbformat": 4,
 "nbformat_minor": 5
}
