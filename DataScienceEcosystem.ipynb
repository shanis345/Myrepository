{
 "cells": [
  {
   "cell_type": "markdown",
   "id": "a63a588a",
   "metadata": {},
   "source": [
    "# Data Science Tools and Ecosystem"
   ]
  },
  {
   "cell_type": "markdown",
   "id": "34548639",
   "metadata": {},
   "source": [
    "In this notebook, Data Science Tools and Ecosystem are summarized."
   ]
  },
  {
   "cell_type": "markdown",
   "id": "448cecd1",
   "metadata": {},
   "source": [
    "Some of the popluar languages that Data Scientists user are:\n",
    " 1. Python\n",
    " 2. R\n",
    " 3. Julia\n",
    " 4. Scala"
   ]
  },
  {
   "cell_type": "markdown",
   "id": "b1b7f05e",
   "metadata": {},
   "source": [
    "Some of the commonly used libraries used by Data Scientists include:\n",
    " 1. Pandas\n",
    " 2. Numpy\n",
    " 3. ggplot2\n",
    " 4. Tensorflow"
   ]
  },
  {
   "cell_type": "markdown",
   "id": "39096147",
   "metadata": {},
   "source": [
    "|Data Science Tools | \n",
    "| ------ | \n",
    "| Jupyter Notebook |\n",
    "| R Studio |\n",
    "| Github |"
   ]
  },
  {
   "cell_type": "markdown",
   "id": "a67b8ac1",
   "metadata": {},
   "source": [
    "### Below are a few examples of evaluating arithmetic expressions in Python\n"
   ]
  },
  {
   "cell_type": "code",
   "execution_count": 2,
   "id": "67234667",
   "metadata": {},
   "outputs": [
    {
     "data": {
      "text/plain": [
       "7"
      ]
     },
     "execution_count": 2,
     "metadata": {},
     "output_type": "execute_result"
    }
   ],
   "source": [
    "2+5"
   ]
  },
  {
   "cell_type": "code",
   "execution_count": 3,
   "id": "5e79190a",
   "metadata": {},
   "outputs": [
    {
     "data": {
      "text/plain": [
       "17"
      ]
     },
     "execution_count": 3,
     "metadata": {},
     "output_type": "execute_result"
    }
   ],
   "source": [
    "#This a simplie arithmetic expression to multiply then add integers.\n",
    "(3*4)+5"
   ]
  },
  {
   "cell_type": "code",
   "execution_count": 4,
   "id": "c2dc81b3",
   "metadata": {},
   "outputs": [
    {
     "name": "stdout",
     "output_type": "stream",
     "text": [
      "3.3333333333333335\n"
     ]
    }
   ],
   "source": [
    "#This will convert 200 minutes to hours by dividing by 60\n",
    "hours = 200/60\n",
    "print(hours)"
   ]
  },
  {
   "cell_type": "markdown",
   "id": "c43de616",
   "metadata": {},
   "source": [
    "**Objectives**\n",
    " - Practice using markdown in Jupyter Notebook\n",
    " - List down popular languages that Data Scientists use\n",
    " - List down commonly used libraries used by data scientists.\n",
    " - Practice executing several arithmetic expressions in Python\n"
   ]
  },
  {
   "cell_type": "markdown",
   "id": "1fcdfa20",
   "metadata": {},
   "source": [
    "## Author\n",
    "Jong JunYoung"
   ]
  },
  {
   "cell_type": "code",
   "execution_count": null,
   "id": "92330b3e",
   "metadata": {},
   "outputs": [],
   "source": []
  }
 ],
 "metadata": {
  "kernelspec": {
   "display_name": "Python 3 (ipykernel)",
   "language": "python",
   "name": "python3"
  },
  "language_info": {
   "codemirror_mode": {
    "name": "ipython",
    "version": 3
   },
   "file_extension": ".py",
   "mimetype": "text/x-python",
   "name": "python",
   "nbconvert_exporter": "python",
   "pygments_lexer": "ipython3",
   "version": "3.11.5"
  }
 },
 "nbformat": 4,
 "nbformat_minor": 5
}
